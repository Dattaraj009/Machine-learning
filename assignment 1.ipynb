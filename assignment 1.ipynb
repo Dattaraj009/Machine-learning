{
 "cells": [
  {
   "cell_type": "code",
   "execution_count": 4,
   "id": "2b901512-25da-438b-99f6-d2826d5e8ed1",
   "metadata": {},
   "outputs": [
    {
     "name": "stdout",
     "output_type": "stream",
     "text": [
      "Requirement already satisfied: pandas in c:\\users\\dattaraj\\appdata\\roaming\\python\\python312\\site-packages (2.2.3)\n",
      "Requirement already satisfied: numpy>=1.26.0 in c:\\users\\dattaraj\\appdata\\roaming\\python\\python312\\site-packages (from pandas) (2.1.1)\n",
      "Requirement already satisfied: python-dateutil>=2.8.2 in c:\\users\\dattaraj\\appdata\\roaming\\python\\python312\\site-packages (from pandas) (2.9.0.post0)\n",
      "Requirement already satisfied: pytz>=2020.1 in c:\\users\\dattaraj\\appdata\\roaming\\python\\python312\\site-packages (from pandas) (2024.1)\n",
      "Requirement already satisfied: tzdata>=2022.7 in c:\\users\\dattaraj\\appdata\\roaming\\python\\python312\\site-packages (from pandas) (2024.1)\n",
      "Requirement already satisfied: six>=1.5 in c:\\users\\dattaraj\\appdata\\roaming\\python\\python312\\site-packages (from python-dateutil>=2.8.2->pandas) (1.16.0)\n"
     ]
    }
   ],
   "source": [
    "!pip install pandas\n"
   ]
  },
  {
   "cell_type": "code",
   "execution_count": 6,
   "id": "c36a04f0-297f-4407-ae4e-607709ec2af4",
   "metadata": {},
   "outputs": [],
   "source": [
    "import pandas as pd"
   ]
  },
  {
   "cell_type": "code",
   "execution_count": 8,
   "id": "8eca96ac-99db-4b83-8442-74d902254574",
   "metadata": {},
   "outputs": [
    {
     "name": "stdout",
     "output_type": "stream",
     "text": [
      "Requirement already satisfied: numpy in c:\\users\\dattaraj\\appdata\\roaming\\python\\python312\\site-packages (2.1.1)\n"
     ]
    }
   ],
   "source": [
    "!pip install numpy"
   ]
  },
  {
   "cell_type": "code",
   "execution_count": 10,
   "id": "43e4731b-6854-48c5-b382-ea70fcd4d6f1",
   "metadata": {},
   "outputs": [],
   "source": [
    "import numpy as np"
   ]
  },
  {
   "cell_type": "code",
   "execution_count": 32,
   "id": "9730a48b-3e73-4ab3-81ce-06c6b57cec33",
   "metadata": {},
   "outputs": [],
   "source": [
    "# Sample Data Setup: Reading data from CSV and Excel\n",
    "# Assuming `data.csv` and `data.xlsx` are in the current directory.\n",
    "\n",
    "# a) Read data from different formats (CSV, XLS)\n",
    "import os\n",
    "\n",
    "csv_data = pd.read_csv(\"D:\\\\advertising.csv\")\n",
    " # Should return True if the file exists\n"
   ]
  },
  {
   "cell_type": "code",
   "execution_count": 34,
   "id": "3e755df1-dffb-4d72-a0eb-eb6974cbaaa6",
   "metadata": {},
   "outputs": [
    {
     "data": {
      "text/html": [
       "<div>\n",
       "<style scoped>\n",
       "    .dataframe tbody tr th:only-of-type {\n",
       "        vertical-align: middle;\n",
       "    }\n",
       "\n",
       "    .dataframe tbody tr th {\n",
       "        vertical-align: top;\n",
       "    }\n",
       "\n",
       "    .dataframe thead th {\n",
       "        text-align: right;\n",
       "    }\n",
       "</style>\n",
       "<table border=\"1\" class=\"dataframe\">\n",
       "  <thead>\n",
       "    <tr style=\"text-align: right;\">\n",
       "      <th></th>\n",
       "      <th>TV</th>\n",
       "      <th>Radio</th>\n",
       "      <th>Newspaper</th>\n",
       "      <th>Sales</th>\n",
       "    </tr>\n",
       "  </thead>\n",
       "  <tbody>\n",
       "    <tr>\n",
       "      <th>0</th>\n",
       "      <td>230.1</td>\n",
       "      <td>37.8</td>\n",
       "      <td>69.2</td>\n",
       "      <td>22.1</td>\n",
       "    </tr>\n",
       "    <tr>\n",
       "      <th>1</th>\n",
       "      <td>44.5</td>\n",
       "      <td>39.3</td>\n",
       "      <td>45.1</td>\n",
       "      <td>10.4</td>\n",
       "    </tr>\n",
       "    <tr>\n",
       "      <th>2</th>\n",
       "      <td>17.2</td>\n",
       "      <td>45.9</td>\n",
       "      <td>69.3</td>\n",
       "      <td>12.0</td>\n",
       "    </tr>\n",
       "    <tr>\n",
       "      <th>3</th>\n",
       "      <td>151.5</td>\n",
       "      <td>41.3</td>\n",
       "      <td>58.5</td>\n",
       "      <td>16.5</td>\n",
       "    </tr>\n",
       "    <tr>\n",
       "      <th>4</th>\n",
       "      <td>180.8</td>\n",
       "      <td>10.8</td>\n",
       "      <td>58.4</td>\n",
       "      <td>17.9</td>\n",
       "    </tr>\n",
       "  </tbody>\n",
       "</table>\n",
       "</div>"
      ],
      "text/plain": [
       "      TV  Radio  Newspaper  Sales\n",
       "0  230.1   37.8       69.2   22.1\n",
       "1   44.5   39.3       45.1   10.4\n",
       "2   17.2   45.9       69.3   12.0\n",
       "3  151.5   41.3       58.5   16.5\n",
       "4  180.8   10.8       58.4   17.9"
      ]
     },
     "execution_count": 34,
     "metadata": {},
     "output_type": "execute_result"
    }
   ],
   "source": [
    "csv_data.head()"
   ]
  },
  {
   "cell_type": "code",
   "execution_count": 36,
   "id": "a83a7e7e-488f-4b9b-8cec-2d635c68d058",
   "metadata": {},
   "outputs": [
    {
     "name": "stdout",
     "output_type": "stream",
     "text": [
      "CSV Data:\n",
      "      TV  Radio  Newspaper  Sales\n",
      "0  230.1   37.8       69.2   22.1\n",
      "1   44.5   39.3       45.1   10.4\n",
      "2   17.2   45.9       69.3   12.0\n",
      "3  151.5   41.3       58.5   16.5\n",
      "4  180.8   10.8       58.4   17.9\n"
     ]
    }
   ],
   "source": [
    "print(\"CSV Data:\")\n",
    "print(csv_data.head())"
   ]
  },
  {
   "cell_type": "code",
   "execution_count": 38,
   "id": "a4018bcf-1b40-480f-a0bf-93c3a10ac6a6",
   "metadata": {},
   "outputs": [
    {
     "name": "stdout",
     "output_type": "stream",
     "text": [
      "\n",
      "Shape of Data (Rows, Columns): (200, 4)\n"
     ]
    }
   ],
   "source": [
    "print(\"\\nShape of Data (Rows, Columns):\", csv_data.shape)"
   ]
  },
  {
   "cell_type": "code",
   "execution_count": 40,
   "id": "42c7e024-249a-4816-91a7-ef90bf25d51c",
   "metadata": {},
   "outputs": [
    {
     "name": "stdout",
     "output_type": "stream",
     "text": [
      "\n",
      "Missing Values per Column:\n",
      "TV           0\n",
      "Radio        0\n",
      "Newspaper    0\n",
      "Sales        0\n",
      "dtype: int64\n"
     ]
    }
   ],
   "source": [
    "# c) Find Missing Values\n",
    "print(\"\\nMissing Values per Column:\")\n",
    "print(csv_data.isnull().sum())"
   ]
  },
  {
   "cell_type": "code",
   "execution_count": 42,
   "id": "9180be4d-606d-4d57-b157-3896d4f68d67",
   "metadata": {},
   "outputs": [
    {
     "name": "stdout",
     "output_type": "stream",
     "text": [
      "\n",
      "Data Types of Each Column:\n",
      "TV           float64\n",
      "Radio        float64\n",
      "Newspaper    float64\n",
      "Sales        float64\n",
      "dtype: object\n"
     ]
    }
   ],
   "source": [
    "# d) Find Data Type of Each Column\n",
    "print(\"\\nData Types of Each Column:\")\n",
    "print(csv_data.dtypes)"
   ]
  },
  {
   "cell_type": "code",
   "execution_count": 44,
   "id": "38f39778-2ebd-4037-88ff-c9dfde70582b",
   "metadata": {},
   "outputs": [
    {
     "name": "stdout",
     "output_type": "stream",
     "text": [
      "\n",
      "Count of Zeros in Each Column:\n",
      "TV           0\n",
      "Radio        1\n",
      "Newspaper    0\n",
      "Sales        0\n",
      "dtype: int64\n"
     ]
    }
   ],
   "source": [
    "# e) Finding out Zeros\n",
    "print(\"\\nCount of Zeros in Each Column:\")\n",
    "zero_counts = (csv_data == 0).sum()\n",
    "print(zero_counts)"
   ]
  },
  {
   "cell_type": "code",
   "execution_count": 46,
   "id": "7cbfad55-fa37-4aa3-9a5a-d30f670c358c",
   "metadata": {},
   "outputs": [
    {
     "name": "stdout",
     "output_type": "stream",
     "text": [
      "\n",
      "First 5 rows of selected columns:\n",
      "      TV  Radio\n",
      "0  230.1   37.8\n",
      "1   44.5   39.3\n",
      "2   17.2   45.9\n",
      "3  151.5   41.3\n",
      "4  180.8   10.8\n"
     ]
    }
   ],
   "source": [
    "# f) Indexing and Selecting Data, Sorting Data\n",
    "print(\"\\nFirst 5 rows of selected columns:\")\n",
    "print(csv_data.iloc[:5, [0, 1]])  # Select first 5 rows of the first 2 columns"
   ]
  },
  {
   "cell_type": "code",
   "execution_count": 48,
   "id": "91725894-d878-4dd2-8ad4-6bc0dbe5422a",
   "metadata": {},
   "outputs": [
    {
     "name": "stdout",
     "output_type": "stream",
     "text": [
      "\n",
      "Data Sorted by First Column (Ascending):\n",
      "      TV  Radio  Newspaper  Sales\n",
      "130  0.7   39.6        8.7    1.6\n",
      "155  4.1   11.6        5.7    3.2\n",
      "78   5.4   29.9        9.4    5.3\n",
      "56   7.3   28.1       41.4    5.5\n",
      "126  7.8   38.9       50.6    6.6\n"
     ]
    }
   ],
   "source": [
    "print(\"\\nData Sorted by First Column (Ascending):\")\n",
    "print(csv_data.sort_values(by=csv_data.columns[0], ascending=True).head())"
   ]
  },
  {
   "cell_type": "code",
   "execution_count": 50,
   "id": "154188d7-62f4-4b28-914f-0de3e269b2ee",
   "metadata": {},
   "outputs": [
    {
     "name": "stdout",
     "output_type": "stream",
     "text": [
      "\n",
      "Summary Statistics of Numeric Columns:\n",
      "               TV       Radio   Newspaper       Sales\n",
      "count  200.000000  200.000000  200.000000  200.000000\n",
      "mean   147.042500   23.264000   30.554000   15.130500\n",
      "std     85.854236   14.846809   21.778621    5.283892\n",
      "min      0.700000    0.000000    0.300000    1.600000\n",
      "25%     74.375000    9.975000   12.750000   11.000000\n",
      "50%    149.750000   22.900000   25.750000   16.000000\n",
      "75%    218.825000   36.525000   45.100000   19.050000\n",
      "max    296.400000   49.600000  114.000000   27.000000\n"
     ]
    }
   ],
   "source": [
    "# g) Describe Attributes of Data, Checking Data Types\n",
    "print(\"\\nSummary Statistics of Numeric Columns:\")\n",
    "print(csv_data.describe())"
   ]
  },
  {
   "cell_type": "code",
   "execution_count": 52,
   "id": "b6727f59-5e20-4703-b053-ba7befe72e32",
   "metadata": {},
   "outputs": [
    {
     "name": "stdout",
     "output_type": "stream",
     "text": [
      "\n",
      "Checking Data Types of Each Column:\n",
      "TV: <class 'numpy.float64'>\n",
      "Radio: <class 'numpy.float64'>\n",
      "Newspaper: <class 'numpy.float64'>\n",
      "Sales: <class 'numpy.float64'>\n"
     ]
    }
   ],
   "source": [
    "print(\"\\nChecking Data Types of Each Column:\")\n",
    "for column in csv_data.columns:\n",
    "    print(f\"{column}: {type(csv_data[column][0])}\")"
   ]
  },
  {
   "cell_type": "code",
   "execution_count": 54,
   "id": "5e168651-128b-4f5c-a95f-8e488704b5fe",
   "metadata": {},
   "outputs": [
    {
     "name": "stdout",
     "output_type": "stream",
     "text": [
      "\n",
      "Unique Values Count for Each Column:\n",
      "TV: 190 unique values\n",
      "Radio: 167 unique values\n",
      "Newspaper: 172 unique values\n",
      "Sales: 121 unique values\n"
     ]
    }
   ],
   "source": [
    "# h) Counting Unique Values, Format of Each Column, Converting Data Type\n",
    "print(\"\\nUnique Values Count for Each Column:\")\n",
    "for column in csv_data.columns:\n",
    "    print(f\"{column}: {csv_data[column].nunique()} unique values\")"
   ]
  },
  {
   "cell_type": "code",
   "execution_count": 56,
   "id": "67bf186c-1502-4ea4-b002-2796a24a40c9",
   "metadata": {},
   "outputs": [
    {
     "name": "stdout",
     "output_type": "stream",
     "text": [
      "\n",
      "Formats (First 5 values of each column):\n",
      "TV: [230.1, 44.5, 17.2, 151.5, 180.8]\n",
      "Radio: [37.8, 39.3, 45.9, 41.3, 10.8]\n",
      "Newspaper: [69.2, 45.1, 69.3, 58.5, 58.4]\n",
      "Sales: [22.1, 10.4, 12.0, 16.5, 17.9]\n"
     ]
    }
   ],
   "source": [
    "# Format of Each Column\n",
    "print(\"\\nFormats (First 5 values of each column):\")\n",
    "for column in csv_data.columns:\n",
    "    print(f\"{column}: {csv_data[column].head().tolist()}\")"
   ]
  },
  {
   "cell_type": "code",
   "execution_count": 58,
   "id": "341ea38d-003a-4163-a75a-3ce52a205c01",
   "metadata": {},
   "outputs": [
    {
     "name": "stdout",
     "output_type": "stream",
     "text": [
      "\n",
      "Converting Column Data Type:\n"
     ]
    }
   ],
   "source": [
    "print(\"\\nConverting Column Data Type:\")\n",
    "if 'numeric_column' in csv_data.columns:\n",
    "    csv_data['numeric_column'] = csv_data['numeric_column'].astype('int16')\n",
    "    print(\"Converted 'numeric_column' to int16.\")"
   ]
  },
  {
   "cell_type": "code",
   "execution_count": 63,
   "id": "db27fb6f-eb0c-43df-8af1-ec05b0f5dc92",
   "metadata": {},
   "outputs": [
    {
     "name": "stdout",
     "output_type": "stream",
     "text": [
      "\n",
      "Updated data saved to 'updated_data.csv'.\n"
     ]
    }
   ],
   "source": [
    "# Save the updated DataFrame to a new CSV file\n",
    "csv_data.to_csv('updated_data.csv', index=False)\n",
    "print(\"\\nUpdated data saved to 'updated_data.csv'.\")"
   ]
  },
  {
   "cell_type": "code",
   "execution_count": null,
   "id": "92685620-31a2-4352-bc9a-b024a5a68951",
   "metadata": {},
   "outputs": [],
   "source": []
  }
 ],
 "metadata": {
  "kernelspec": {
   "display_name": "Python 3 (ipykernel)",
   "language": "python",
   "name": "python3"
  },
  "language_info": {
   "codemirror_mode": {
    "name": "ipython",
    "version": 3
   },
   "file_extension": ".py",
   "mimetype": "text/x-python",
   "name": "python",
   "nbconvert_exporter": "python",
   "pygments_lexer": "ipython3",
   "version": "3.12.7"
  }
 },
 "nbformat": 4,
 "nbformat_minor": 5
}
